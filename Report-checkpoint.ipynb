{
 "cells": [
  {
   "cell_type": "markdown",
   "metadata": {},
   "source": [
    "# Project: Ear Recognition\n",
    "Yifei Feng | U81901533\n",
    "\n",
    "Zehui Jiang | U68975915\n",
    "\n",
    "Guangxing Ren | U072735315"
   ]
  },
  {
   "cell_type": "markdown",
   "metadata": {},
   "source": [
    "# Identify your problem\n",
    "\n",
    "AI recognization systems are extremely popular these days. A famous commercial example is facing ID by Apple. Before unlocking the device or finish the transaction, a facial scan is being conducted to check the identification of the user. Besides face recognize，the process of precisely recognize people by ears also has been getting major attention in recent years. It represents an important step in the biometric research, especially as a complement to face recognition systems which have difficulty in real conditions. This is due to the great variation in shapes, variable lighting conditions, and the changing profile shape which is a planar representation of a complex object. \n",
    "\n",
    "\n",
    "Goal of project: design and train a convolutional neural network. The system take ear images as inpit and output the label(person) which this ear belongs.\n",
    "\n",
    "Data:\n",
    "We are given a set of left ear image from people with different identities. For each ear(each person). Four images are given, we for ears “in the wild” (there is no constraint in the way of taking the photo), two for ear images taken with a “donut device” that serves as a background and somewhat controls lighting.  There are 4*195(individual ear) in the dataset.\n",
    "\n",
    "url:http://cs-people.bu.edu/wdqin/earImageDataset.zip\n",
    " \n",
    " \n",
    " \n",
    " \n"
   ]
  },
  {
   "cell_type": "markdown",
   "metadata": {},
   "source": [
    "# Backgroud\n",
    "\n",
    "\n",
    "\n",
    "Method we use: There are few common methods out that can be use to implement ear recignition such as Convolutional neural network and Hidden Markov model. For our project, We use convolutional neural network(CNN) as our main method. CNN is a is a a special kind of multi-layer neural networks, it is Deep Learning algorithm which can take in an input image, assign learnable weights and biases to various objects in the image and be able to differentiate one from the other. CNN uses a filter matrix over the array of image pixels and performs convolution operation to obtain a convolved feature map, it is widely used in AI recognition system like face recognition.\n",
    "\n",
    "Libray we use: We use kears as our open-source neural-network library because Keras is great a high-level API for neural networks. It is written in Python and its biggest advantage is its ability to run on top of state-of-art deep learning libraries such as TensorFlow, CNTK or Theano. In order to improve the performance for our system,  We use OpenCV as our vision computing library to process our input ear data.\n",
    "\n",
    "Language we use: We use Python as Python support the libraries that we used.\n",
    "\n",
    "Resources that we found: We found an existing Face Recognition application that applies Convolutional Neural Network. We plan to use the code as baseline. \n",
    "url: https://blog.csdn.net/luanpeng825485697/article/details/80144300\n",
    "\n",
    "\n",
    "These are the time distribution we planned for each individual member:\n",
    "\n",
    "Background research:   4 hours\n",
    "\n",
    "Reproducing Baseline: 6 hours\n",
    "\n",
    "Improvement: 5  hours\n",
    "\n",
    "Final Report: 4 hours\n",
    "\n",
    "\n",
    "We distribute our time in this way as We don’t want to ignore the importance of background research and report. Since we are given limited time for this complicated project. We want to spend more time on understanding and reproducingthe existing algorithm and application.  \n"
   ]
  },
  {
   "cell_type": "code",
   "execution_count": null,
   "metadata": {},
   "outputs": [],
   "source": []
  },
  {
   "cell_type": "markdown",
   "metadata": {},
   "source": [
    "#  Reproducing the baseline:\n",
    "\n",
    "We found an existing Face Recognition CNN  that applies Convolutional Neural Network. \n"
   ]
  },
  {
   "cell_type": "code",
   "execution_count": null,
   "metadata": {},
   "outputs": [],
   "source": []
  },
  {
   "cell_type": "code",
   "execution_count": null,
   "metadata": {},
   "outputs": [],
   "source": []
  },
  {
   "cell_type": "markdown",
   "metadata": {},
   "source": [
    "# Background survey"
   ]
  },
  {
   "cell_type": "markdown",
   "metadata": {},
   "source": [
    "# Reproducing the baseline"
   ]
  },
  {
   "cell_type": "markdown",
   "metadata": {},
   "source": [
    "# Improvement\n",
    "## 1. Regularization\n",
    "## 2. Augmentation\n",
    "## 3. Crop\n",
    "## 4. k-fold\n",
    "## 5. Dropout\n",
    "## 6. Comprise"
   ]
  },
  {
   "cell_type": "code",
   "execution_count": null,
   "metadata": {},
   "outputs": [],
   "source": []
  },
  {
   "cell_type": "code",
   "execution_count": null,
   "metadata": {},
   "outputs": [],
   "source": []
  },
  {
   "cell_type": "code",
   "execution_count": null,
   "metadata": {},
   "outputs": [],
   "source": []
  },
  {
   "cell_type": "code",
   "execution_count": 2,
   "metadata": {},
   "outputs": [],
   "source": [
    "\n"
   ]
  },
  {
   "cell_type": "code",
   "execution_count": 3,
   "metadata": {},
   "outputs": [],
   "source": []
  },
  {
   "cell_type": "code",
   "execution_count": null,
   "metadata": {},
   "outputs": [],
   "source": []
  },
  {
   "cell_type": "code",
   "execution_count": 14,
   "metadata": {},
   "outputs": [],
   "source": []
  },
  {
   "cell_type": "code",
   "execution_count": 17,
   "metadata": {},
   "outputs": [],
   "source": []
  },
  {
   "cell_type": "code",
   "execution_count": null,
   "metadata": {},
   "outputs": [],
   "source": []
  },
  {
   "cell_type": "code",
   "execution_count": null,
   "metadata": {},
   "outputs": [],
   "source": []
  }
 ],
 "metadata": {
  "kernelspec": {
   "display_name": "Python 3",
   "language": "python",
   "name": "python3"
  },
  "language_info": {
   "codemirror_mode": {
    "name": "ipython",
    "version": 3
   },
   "file_extension": ".py",
   "mimetype": "text/x-python",
   "name": "python",
   "nbconvert_exporter": "python",
   "pygments_lexer": "ipython3",
   "version": "3.6.8"
  }
 },
 "nbformat": 4,
 "nbformat_minor": 2
}
